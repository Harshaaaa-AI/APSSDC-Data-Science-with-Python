{
 "cells": [
  {
   "cell_type": "markdown",
   "id": "b583bd4c",
   "metadata": {},
   "source": [
    "**Task**"
   ]
  },
  {
   "cell_type": "code",
   "execution_count": 1,
   "id": "5da9b284",
   "metadata": {},
   "outputs": [
    {
     "name": "stdout",
     "output_type": "stream",
     "text": [
      "Enter your roll number: AP19110010221\n",
      "Not an SRM Student\n"
     ]
    }
   ],
   "source": [
    "num = str(input(\"Enter your roll number: \"))\n",
    "if num[-3:].startswith('01'): print(\"CSE Department\")\n",
    "elif num[-3:].startswith('11'): print(\"IT Department\")\n",
    "elif num[-3:].startswith('21'): print(\"ECE Department\")\n",
    "else: print(\"Not an SRM Student\")"
   ]
  }
 ],
 "metadata": {
  "kernelspec": {
   "display_name": "Python 3",
   "language": "python",
   "name": "python3"
  },
  "language_info": {
   "codemirror_mode": {
    "name": "ipython",
    "version": 3
   },
   "file_extension": ".py",
   "mimetype": "text/x-python",
   "name": "python",
   "nbconvert_exporter": "python",
   "pygments_lexer": "ipython3",
   "version": "3.8.8"
  }
 },
 "nbformat": 4,
 "nbformat_minor": 5
}
