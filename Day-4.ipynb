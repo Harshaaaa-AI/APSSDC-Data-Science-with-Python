{
 "cells": [
  {
   "cell_type": "markdown",
   "id": "9de52595",
   "metadata": {},
   "source": [
    "**Day-4**\n",
    "Take input from the user.\n",
    "Check the length of the string even or odd.\n",
    "If the string length is odd access one middle character.\n",
    "If the string length is even access two middle characters."
   ]
  },
  {
   "cell_type": "code",
   "execution_count": 2,
   "id": "b267e479",
   "metadata": {},
   "outputs": [
    {
     "name": "stdout",
     "output_type": "stream",
     "text": [
      "Enter the string: harsha\n",
      "Length of string is 6\n",
      "r s\n"
     ]
    }
   ],
   "source": [
    "n = str(input(\"Enter the string: \"))\n",
    "print(\"Length of string is {}\".format(len(n)))\n",
    "if len(n) % 2 == 0:\n",
    "    print(n[len(n)//2 - 1], n[len(n)//2])\n",
    "else:\n",
    "    print(n[len(n)//2])"
   ]
  },
  {
   "cell_type": "code",
   "execution_count": null,
   "id": "29bbd339",
   "metadata": {},
   "outputs": [],
   "source": []
  }
 ],
 "metadata": {
  "kernelspec": {
   "display_name": "Python 3",
   "language": "python",
   "name": "python3"
  },
  "language_info": {
   "codemirror_mode": {
    "name": "ipython",
    "version": 3
   },
   "file_extension": ".py",
   "mimetype": "text/x-python",
   "name": "python",
   "nbconvert_exporter": "python",
   "pygments_lexer": "ipython3",
   "version": "3.8.8"
  }
 },
 "nbformat": 4,
 "nbformat_minor": 5
}
