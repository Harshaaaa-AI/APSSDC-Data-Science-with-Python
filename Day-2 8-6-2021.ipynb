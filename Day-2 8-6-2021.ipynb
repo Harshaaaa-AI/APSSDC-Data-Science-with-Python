{
 "cells": [
  {
   "cell_type": "markdown",
   "id": "6939736a",
   "metadata": {},
   "source": [
    "**Write a program to check wheather the user eligible for vote or not.Check the given number is positive or negative**"
   ]
  },
  {
   "cell_type": "code",
   "execution_count": 2,
   "id": "6539d502",
   "metadata": {},
   "outputs": [
    {
     "name": "stdout",
     "output_type": "stream",
     "text": [
      "What's your age?56\n",
      "You are eligible for vote.\n"
     ]
    }
   ],
   "source": [
    "age= int(input(\"What's your age:\"))\n",
    "if age>=18:\n",
    "    print(\"You are eligible for vote.\")\n",
    "else:\n",
    "    print(\"You are not eligible for vote.\")"
   ]
  },
  {
   "cell_type": "markdown",
   "id": "bec10a9e",
   "metadata": {},
   "source": [
    "**Check the given number is positive or negative**"
   ]
  },
  {
   "cell_type": "code",
   "execution_count": 3,
   "id": "01440920",
   "metadata": {},
   "outputs": [
    {
     "name": "stdout",
     "output_type": "stream",
     "text": [
      "Enter your number45\n",
      "Given number is positive\n"
     ]
    }
   ],
   "source": [
    "n = int(input(\"Enter your number:\"))\n",
    "if n>0:\n",
    "    print(\"Given number is positive\")\n",
    "else:\n",
    "    print(\"Given number is negative\")"
   ]
  },
  {
   "cell_type": "markdown",
   "id": "0a69a14d",
   "metadata": {},
   "source": [
    "**check the given number is even or odd if it's even check which is divisible by 4 or not**"
   ]
  },
  {
   "cell_type": "code",
   "execution_count": 20,
   "id": "5c2de204",
   "metadata": {},
   "outputs": [
    {
     "name": "stdout",
     "output_type": "stream",
     "text": [
      "Enter your number48\n",
      "Given number is even & divisible by 4\n"
     ]
    }
   ],
   "source": [
    "n = int(input(\"Enter your number:\"))\n",
    "if  (n%2)== 0 and (n%4)==0:\n",
    "    print(\"Given number is even & divisible by 4\")\n",
    "\n",
    "elif  (n%2) == 0 :\n",
    "    print(\"Given number is even\")    \n",
    "else:\n",
    "      print(\"Given number is odd\")"
   ]
  },
  {
   "cell_type": "markdown",
   "id": "01ee5e85",
   "metadata": {},
   "source": [
    "**write a program to print student grade based on persentage like Distinction,pass or fail**"
   ]
  },
  {
   "cell_type": "code",
   "execution_count": 23,
   "id": "2f7987bb",
   "metadata": {},
   "outputs": [
    {
     "name": "stdout",
     "output_type": "stream",
     "text": [
      "Enter your marks:92\n",
      "You are distinction\n"
     ]
    }
   ],
   "source": [
    "n = float(input(\"Enter your marks:\"))\n",
    "if n<33:\n",
    "    print(\"You are fail\")\n",
    "elif n>33 and n<90:\n",
    "    print(\"You are pass\")\n",
    "else:\n",
    "    print(\"You are distinction\")\n"
   ]
  },
  {
   "cell_type": "markdown",
   "id": "5bff78fa",
   "metadata": {},
   "source": [
    "**Check the given year is Leap or not**"
   ]
  },
  {
   "cell_type": "code",
   "execution_count": 24,
   "id": "c80aee02",
   "metadata": {},
   "outputs": [
    {
     "name": "stdout",
     "output_type": "stream",
     "text": [
      "45\n",
      "It is not a leap year\n"
     ]
    }
   ],
   "source": [
    "year = int(input(\"Enter the year:\"))\n",
    "if (year % 4 == 0):\n",
    "    if (year % 100 == 0):\n",
    "        if (year % 400 == 0):\n",
    "            print(\"It is a leap year\")\n",
    "        else:\n",
    "            print(\"It is not a leap year\")\n",
    "    else:\n",
    "        print(\"It is a leap year\")\n",
    "else:\n",
    "    print(\"It is not a leap year\")"
   ]
  }
 ],
 "metadata": {
  "kernelspec": {
   "display_name": "Python 3",
   "language": "python",
   "name": "python3"
  },
  "language_info": {
   "codemirror_mode": {
    "name": "ipython",
    "version": 3
   },
   "file_extension": ".py",
   "mimetype": "text/x-python",
   "name": "python",
   "nbconvert_exporter": "python",
   "pygments_lexer": "ipython3",
   "version": "3.8.8"
  }
 },
 "nbformat": 4,
 "nbformat_minor": 5
}
