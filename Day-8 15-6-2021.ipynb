{
 "cells": [
  {
   "cell_type": "markdown",
   "id": "b2f019c5",
   "metadata": {},
   "source": [
    "**Create a function for finding the leap years within the given range**"
   ]
  },
  {
   "cell_type": "code",
   "execution_count": 2,
   "id": "840e58d8",
   "metadata": {},
   "outputs": [
    {
     "name": "stdout",
     "output_type": "stream",
     "text": [
      "Enter the lower year: 1973\n",
      "Enter the higher year: 2021\n",
      "Leap years between 1973 and 2021 are: \n",
      "1976\n",
      "1980\n",
      "1984\n",
      "1988\n",
      "1992\n",
      "1996\n",
      "2000\n",
      "2004\n",
      "2008\n",
      "2012\n",
      "2016\n",
      "2020\n"
     ]
    }
   ],
   "source": [
    "def leap(year):\n",
    "    if year % 4 == 0 and year % 100 != 0 or year % 400 == 0: return True\n",
    "    else: return False\n",
    "\n",
    "start = int(input(\"Enter the lower year: \"))\n",
    "end = int(input(\"Enter the higher year: \"))\n",
    "\n",
    "print(\"Leap years between\", start, \"and\", end, \"are: \")\n",
    "\n",
    "for i in range(start, end):\n",
    "    if leap(i): print(i)"
   ]
  },
  {
   "cell_type": "markdown",
   "id": "ec937bc7",
   "metadata": {},
   "source": [
    "**Create a function for getting the armstrong numbers within the given range**"
   ]
  },
  {
   "cell_type": "code",
   "execution_count": 5,
   "id": "05c21f38",
   "metadata": {},
   "outputs": [
    {
     "name": "stdout",
     "output_type": "stream",
     "text": [
      "Enter your lower value: 200\n",
      "Enter your higher value: 1000\n",
      "370\n",
      "371\n",
      "407\n"
     ]
    }
   ],
   "source": [
    "def armstrong(a, b):\n",
    "    for i in range(a, b+1):\n",
    "        num = i\n",
    "        result = 0\n",
    "        n = len(str(i))\n",
    "        while i != 0:\n",
    "            digit = i % 10\n",
    "            result = result + digit ** n\n",
    "            i = i//10\n",
    "        if num == result:\n",
    "            print(num)\n",
    "\n",
    "start = int(input(\"Enter your lower value: \"))\n",
    "end = int(input(\"Enter your higher value: \"))\n",
    "armstrong(start, end)\n"
   ]
  },
  {
   "cell_type": "markdown",
   "id": "b77b44c9",
   "metadata": {},
   "source": [
    "**Create a function for getting the prime numbers within the range**"
   ]
  },
  {
   "cell_type": "code",
   "execution_count": 7,
   "id": "fdee7452",
   "metadata": {},
   "outputs": [
    {
     "name": "stdout",
     "output_type": "stream",
     "text": [
      "Enter your lower range: 1\n",
      "Enter your upper range: 50\n",
      "1 is a prime number\n",
      "2 is a prime number\n",
      "3 is a prime number\n",
      "5 is a prime number\n",
      "7 is a prime number\n",
      "11 is a prime number\n",
      "13 is a prime number\n",
      "17 is a prime number\n",
      "19 is a prime number\n",
      "23 is a prime number\n",
      "29 is a prime number\n",
      "31 is a prime number\n",
      "37 is a prime number\n",
      "41 is a prime number\n",
      "43 is a prime number\n",
      "47 is a prime number\n"
     ]
    }
   ],
   "source": [
    "def prime(a, b):\n",
    "    for n in range(a, b+1):\n",
    "        for i in range(2, n):\n",
    "            if n % i == 0:\n",
    "                break\n",
    "        else:\n",
    "            print(n, \"is a prime number\")\n",
    "\n",
    "lower = int(input(\"Enter your lower range: \"))\n",
    "upper = int(input(\"Enter your upper range: \"))\n",
    "\n",
    "prime(lower, upper)"
   ]
  },
  {
   "cell_type": "markdown",
   "id": "5bcee2a5",
   "metadata": {},
   "source": [
    "**Create a function for finding the count of elements in a string.\"Srm university\"**"
   ]
  },
  {
   "cell_type": "code",
   "execution_count": 8,
   "id": "fb5f5cad",
   "metadata": {},
   "outputs": [
    {
     "name": "stdout",
     "output_type": "stream",
     "text": [
      "Enter your value: SRM UNIVERSITY\n",
      "Number of elements in your string is:  {'S': 2, 'R': 2, 'M': 1, ' ': 1, 'U': 1, 'N': 1, 'I': 2, 'V': 1, 'E': 1, 'T': 1, 'Y': 1}\n"
     ]
    }
   ],
   "source": [
    "def count_string(s):\n",
    "    res={}\n",
    "    for i in s:\n",
    "        if i in res:\n",
    "            res[i]+=1\n",
    "        else:\n",
    "            res[i]=1\n",
    "    return res\n",
    "\n",
    "string = input(\"Enter your value: \")\n",
    "print(\"Number of elements in your string is: \", count_string(string))\n"
   ]
  }
 ],
 "metadata": {
  "kernelspec": {
   "display_name": "Python 3",
   "language": "python",
   "name": "python3"
  },
  "language_info": {
   "codemirror_mode": {
    "name": "ipython",
    "version": 3
   },
   "file_extension": ".py",
   "mimetype": "text/x-python",
   "name": "python",
   "nbconvert_exporter": "python",
   "pygments_lexer": "ipython3",
   "version": "3.8.8"
  }
 },
 "nbformat": 4,
 "nbformat_minor": 5
}
