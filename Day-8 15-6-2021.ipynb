{
 "cells": [
  {
   "cell_type": "markdown",
   "id": "9cf617aa",
   "metadata": {},
   "source": [
    "**Create a function for finding the leap years within the given range**"
   ]
  },
  {
   "cell_type": "code",
   "execution_count": 2,
   "id": "0cd49c2a",
   "metadata": {},
   "outputs": [
    {
     "name": "stdout",
     "output_type": "stream",
     "text": [
      "Enter the lower year: 1973\n",
      "Enter the higher year: 2021\n",
      "Leap years between 1973 and 2021 are: \n",
      "1976\n",
      "1980\n",
      "1984\n",
      "1988\n",
      "1992\n",
      "1996\n",
      "2000\n",
      "2004\n",
      "2008\n",
      "2012\n",
      "2016\n",
      "2020\n"
     ]
    }
   ],
   "source": [
    "def leap(year):\n",
    "    if year % 4 == 0 and year % 100 != 0 or year % 400 == 0: return True\n",
    "    else: return False\n",
    "\n",
    "start = int(input(\"Enter the lower year: \"))\n",
    "end = int(input(\"Enter the higher year: \"))\n",
    "\n",
    "print(\"Leap years between\", start, \"and\", end, \"are: \")\n",
    "\n",
    "for i in range(start, end):\n",
    "    if leap(i): print(i)"
   ]
  },
  {
   "cell_type": "markdown",
   "id": "336a82d9",
   "metadata": {},
   "source": [
    "**Create a function for getting the armstrong numbers within the given range**"
   ]
  },
  {
   "cell_type": "code",
   "execution_count": 5,
   "id": "360a9960",
   "metadata": {},
   "outputs": [
    {
     "name": "stdout",
     "output_type": "stream",
     "text": [
      "Enter your lower value: 200\n",
      "Enter your higher value: 1000\n",
      "370\n",
      "371\n",
      "407\n"
     ]
    }
   ],
   "source": [
    "def armstrong(a, b):\n",
    "    for i in range(a, b+1):\n",
    "        num = i\n",
    "        result = 0\n",
    "        n = len(str(i))\n",
    "        while i != 0:\n",
    "            digit = i % 10\n",
    "            result = result + digit ** n\n",
    "            i = i//10\n",
    "        if num == result:\n",
    "            print(num)\n",
    "\n",
    "start = int(input(\"Enter your lower value: \"))\n",
    "end = int(input(\"Enter your higher value: \"))\n",
    "armstrong(start, end)\n"
   ]
  },
  {
   "cell_type": "markdown",
   "id": "4a83a2fd",
   "metadata": {},
   "source": [
    "**Create a function for getting the prime numbers within the range**"
   ]
  },
  {
   "cell_type": "code",
   "execution_count": 6,
   "id": "e0d5e6a0",
   "metadata": {},
   "outputs": [
    {
     "name": "stdout",
     "output_type": "stream",
     "text": [
      "Enter your lower range: 1\n",
      "Enter your upper range: 50\n",
      "1 is a prime number\n",
      "2 is a prime number\n",
      "3 is a prime number\n",
      "5 is a prime number\n",
      "7 is a prime number\n",
      "11 is a prime number\n",
      "13 is a prime number\n",
      "17 is a prime number\n",
      "19 is a prime number\n",
      "23 is a prime number\n",
      "29 is a prime number\n",
      "31 is a prime number\n",
      "37 is a prime number\n",
      "41 is a prime number\n",
      "43 is a prime number\n",
      "47 is a prime number\n"
     ]
    }
   ],
   "source": [
    "def prime(a, b):\n",
    "    for n in range(a, b+1):\n",
    "        for i in range(2, n):\n",
    "            if n % i == 0:\n",
    "                break\n",
    "        else:\n",
    "            print(n, \"is a prime number\")\n",
    "\n",
    "lower = int(input(\"Enter your lower range: \"))\n",
    "upper = int(input(\"Enter your upper range: \"))\n",
    "\n",
    "prime(lower, upper)"
   ]
  }
 ],
 "metadata": {
  "kernelspec": {
   "display_name": "Python 3",
   "language": "python",
   "name": "python3"
  },
  "language_info": {
   "codemirror_mode": {
    "name": "ipython",
    "version": 3
   },
   "file_extension": ".py",
   "mimetype": "text/x-python",
   "name": "python",
   "nbconvert_exporter": "python",
   "pygments_lexer": "ipython3",
   "version": "3.8.8"
  }
 },
 "nbformat": 4,
 "nbformat_minor": 5
}
