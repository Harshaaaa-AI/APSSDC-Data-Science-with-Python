{
 "cells": [
  {
   "cell_type": "markdown",
   "id": "ae574e5a",
   "metadata": {},
   "source": [
    "**Task 1 - Write a program for getting the last five lines from the file**"
   ]
  },
  {
   "cell_type": "code",
   "execution_count": 6,
   "id": "2a8f7daa",
   "metadata": {},
   "outputs": [
    {
     "name": "stdout",
     "output_type": "stream",
     "text": [
      "Oslo\n",
      "\n",
      "Moscow\n",
      "\n",
      "Nairobi\n",
      "\n",
      "Rio\n",
      "\n",
      "Denver\n"
     ]
    },
    {
     "data": {
      "text/plain": [
       "<function TextIOWrapper.close()>"
      ]
     },
     "execution_count": 6,
     "metadata": {},
     "output_type": "execute_result"
    }
   ],
   "source": [
    "f = open('file.txt', 'r')\n",
    "for i in f.readlines()[-5:]:\n",
    "    print(i)\n",
    "f.close"
   ]
  },
  {
   "cell_type": "code",
   "execution_count": 5,
   "id": "0a965ba1",
   "metadata": {},
   "outputs": [
    {
     "name": "stdout",
     "output_type": "stream",
     "text": [
      "Enter file name: file.txt\n",
      "Enter matter into file: The Professor\n",
      "Data successfully appended\n",
      "Tokyo\n",
      "Berlin\n",
      "Oslo\n",
      "Moscow\n",
      "Nairobi\n",
      "Rio\n",
      "Denver\n",
      "\n",
      "The Professor\n",
      "The Professor\n"
     ]
    }
   ],
   "source": [
    "def insert(file, info):\n",
    "    with open(file, 'a') as f:\n",
    "        f.write(\"\\n\" + info)\n",
    "        print(\"Data successfully appended\")\n",
    "        f.close()\n",
    "    with open(file, 'r') as f:\n",
    "        print(f.read())\n",
    "        f.close()\n",
    "        \n",
    "\n",
    "file = str(input(\"Enter file name: \"))\n",
    "info = str(input(\"Enter matter into file: \"))\n",
    "\n",
    "insert(file, info)"
   ]
  }
 ],
 "metadata": {
  "kernelspec": {
   "display_name": "Python 3",
   "language": "python",
   "name": "python3"
  },
  "language_info": {
   "codemirror_mode": {
    "name": "ipython",
    "version": 3
   },
   "file_extension": ".py",
   "mimetype": "text/x-python",
   "name": "python",
   "nbconvert_exporter": "python",
   "pygments_lexer": "ipython3",
   "version": "3.8.8"
  }
 },
 "nbformat": 4,
 "nbformat_minor": 5
}
