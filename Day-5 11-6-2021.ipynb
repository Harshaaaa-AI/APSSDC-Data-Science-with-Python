{
 "cells": [
  {
   "cell_type": "markdown",
   "id": "9db91876",
   "metadata": {},
   "source": [
    "Write a python program that takes two lists and returns true if they have atleast one common member."
   ]
  },
  {
   "cell_type": "code",
   "execution_count": 1,
   "id": "035ac463",
   "metadata": {},
   "outputs": [
    {
     "name": "stdout",
     "output_type": "stream",
     "text": [
      "a b c d\n",
      "\n",
      "False\n"
     ]
    }
   ],
   "source": [
    "ls_1 = list(input().split())\n",
    "ls_2 = list(input().split())\n",
    "ans = False\n",
    "for i in ls_1:\n",
    "    if i in ls_2:\n",
    "        ans = True\n",
    "        break\n",
    "print(ans)"
   ]
  },
  {
   "cell_type": "code",
   "execution_count": 2,
   "id": "67ecb1b1",
   "metadata": {},
   "outputs": [
    {
     "name": "stdout",
     "output_type": "stream",
     "text": [
      "a b c d \n",
      "d e f g \n",
      "True\n"
     ]
    }
   ],
   "source": [
    "ls_1 = list(input().split())\n",
    "ls_2 = list(input().split())\n",
    "ans = False\n",
    "for i in ls_1:\n",
    "    if i in ls_2:\n",
    "        ans = True\n",
    "        break\n",
    "print(ans)"
   ]
  },
  {
   "cell_type": "code",
   "execution_count": 3,
   "id": "4f0599f3",
   "metadata": {},
   "outputs": [
    {
     "name": "stdout",
     "output_type": "stream",
     "text": [
      "a c e g\n",
      "b d f h \n",
      "False\n"
     ]
    }
   ],
   "source": [
    "ls_1 = list(input().split())\n",
    "ls_2 = list(input().split())\n",
    "ans = False\n",
    "for i in ls_1:\n",
    "    if i in ls_2:\n",
    "        ans = True\n",
    "        break\n",
    "print(ans)"
   ]
  },
  {
   "cell_type": "code",
   "execution_count": null,
   "id": "5ba5fc6a",
   "metadata": {},
   "outputs": [],
   "source": []
  }
 ],
 "metadata": {
  "kernelspec": {
   "display_name": "Python 3",
   "language": "python",
   "name": "python3"
  },
  "language_info": {
   "codemirror_mode": {
    "name": "ipython",
    "version": 3
   },
   "file_extension": ".py",
   "mimetype": "text/x-python",
   "name": "python",
   "nbconvert_exporter": "python",
   "pygments_lexer": "ipython3",
   "version": "3.8.8"
  }
 },
 "nbformat": 4,
 "nbformat_minor": 5
}
